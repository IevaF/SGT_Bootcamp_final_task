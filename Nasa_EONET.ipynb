{
 "cells": [
  {
   "cell_type": "code",
   "execution_count": 2,
   "id": "13b7fbc3",
   "metadata": {},
   "outputs": [],
   "source": [
    "import requests\n",
    "import pymongo\n",
    "from pymongo.mongo_client import MongoClient\n",
    "from pymongo.server_api import ServerApi\n",
    "import pandas as pd"
   ]
  },
  {
   "cell_type": "markdown",
   "id": "a2dc2b98",
   "metadata": {},
   "source": [
    "# Extract EONET data from NASA API"
   ]
  },
  {
   "cell_type": "code",
   "execution_count": 2,
   "id": "787aeb6f",
   "metadata": {},
   "outputs": [],
   "source": [
    "api_key = 'your_key' #need to be replaced\n",
    "\n",
    "eonet_url = \"https://eonet.gsfc.nasa.gov/api/v2.1/events\"\n",
    "params = {\n",
    "    \"status\": \"open\",\n",
    "    \"limit\": 10,\n",
    "    \"api_key\": api_key,\n",
    "}\n",
    "\n",
    "try:\n",
    "    response = requests.get(eonet_url, params=params)\n",
    "    response.raise_for_status()\n",
    "\n",
    "    data = response.json()\n",
    "    events = data.get(\"events\", [])\n",
    "\n",
    "    # Define a function to extract subheaders and their values\n",
    "    def extract_subheader(event, subheader):\n",
    "        return event.get(subheader, \"N/A\")\n",
    "\n",
    "except Exception as e:\n",
    "    print(\"An error occurred:\", str(e))"
   ]
  },
  {
   "cell_type": "markdown",
   "id": "85f0a6d9",
   "metadata": {},
   "source": [
    "# Connect to Mongo database"
   ]
  },
  {
   "cell_type": "code",
   "execution_count": 3,
   "id": "cba2d19d",
   "metadata": {},
   "outputs": [
    {
     "name": "stdout",
     "output_type": "stream",
     "text": [
      "Pinged your deployment. You successfully connected to MongoDB!\n"
     ]
    }
   ],
   "source": [
    "uri = \"your_uri\"\n",
    "\n",
    "client = MongoClient(uri, server_api=ServerApi('1'))\n",
    "\n",
    "try:\n",
    "    client.admin.command('ping')\n",
    "    print(\"Pinged your deployment. You successfully connected to MongoDB!\")\n",
    "except Exception as e:\n",
    "    print(e)"
   ]
  },
  {
   "cell_type": "code",
   "execution_count": 4,
   "id": "a581a5e2",
   "metadata": {},
   "outputs": [],
   "source": [
    "database_name = client[\"Nasa_EONET\"]\n",
    "collection_name = database_name[\"natural_events\"]"
   ]
  },
  {
   "cell_type": "markdown",
   "id": "c9b2c63f",
   "metadata": {},
   "source": [
    "# Store EONET data in MongoDB"
   ]
  },
  {
   "cell_type": "code",
   "execution_count": 5,
   "id": "3b352837",
   "metadata": {},
   "outputs": [],
   "source": [
    "for event in events:\n",
    "    # Create a document to insert into MongoDB events\n",
    "    event_document = {\n",
    "        \"Event ID\": extract_subheader(event, \"id\"),\n",
    "        \"Event Title\": extract_subheader(event, \"title\"),\n",
    "        \"Event Description\": extract_subheader(event, \"description\"),\n",
    "        \"Event Link\": extract_subheader(event, \"link\"),\n",
    "    }\n",
    "\n",
    "    # Access and store categories \n",
    "    categories = event.get(\"categories\", [])\n",
    "    event_document[\"Categories\"] = [{\"Category ID\": cat.get(\"id\", \"N/A\"), \"Category Title\": cat.get(\"title\", \"N/A\")} for cat in categories]\n",
    "\n",
    "    # Access and store sources \n",
    "    sources = event.get(\"sources\", [])\n",
    "    event_document[\"Sources\"] = [{\"Source ID\": source.get(\"id\", \"N/A\"), \"Source URL\": source.get(\"url\", \"N/A\")} for source in sources]\n",
    "\n",
    "    # Access and store geometries \n",
    "    geometries = event.get(\"geometries\", [])\n",
    "    event_document[\"Geometries\"] = [{\"Magnitude Value\": geometry.get(\"magnitudeValue\", \"N/A\"),\n",
    "                                     \"Magnitude Unit\": geometry.get(\"magnitudeUnit\", \"N/A\"),\n",
    "                                     \"Geometry Date\": geometry.get(\"date\", \"N/A\"),\n",
    "                                     \"Geometry Type\": geometry.get(\"type\", \"N/A\"),\n",
    "                                     \"Geometry Coordinates\": geometry.get(\"coordinates\", [])} for geometry in geometries]\n",
    "\n",
    "    # Insert the document into MongoDB\n",
    "    collection_name.insert_one(event_document)"
   ]
  },
  {
   "cell_type": "code",
   "execution_count": 5,
   "id": "4fd4da91",
   "metadata": {},
   "outputs": [
    {
     "name": "stdout",
     "output_type": "stream",
     "text": [
      "Database(MongoClient(host=['ac-otesk9b-shard-00-01.c4dp6ex.mongodb.net:27017', 'ac-otesk9b-shard-00-00.c4dp6ex.mongodb.net:27017', 'ac-otesk9b-shard-00-02.c4dp6ex.mongodb.net:27017'], document_class=dict, tz_aware=False, connect=True, retrywrites=True, w='majority', authsource='admin', replicaset='atlas-11h46f-shard-0', tls=True, server_api=<pymongo.server_api.ServerApi object at 0x000001A51E9D5120>), 'Nasa_EONET')\n"
     ]
    }
   ],
   "source": [
    "print(database_name)"
   ]
  },
  {
   "cell_type": "markdown",
   "id": "6b45e14b",
   "metadata": {},
   "source": [
    "# Fetch data from MongoDB using PySpark"
   ]
  },
  {
   "cell_type": "code",
   "execution_count": 6,
   "id": "3b95890e",
   "metadata": {},
   "outputs": [],
   "source": [
    "import findspark\n",
    "findspark.init()"
   ]
  },
  {
   "cell_type": "code",
   "execution_count": null,
   "id": "a6eaa9c5",
   "metadata": {},
   "outputs": [],
   "source": [
    "from pyspark.sql import SparkSession\n",
    "import pyspark.sql.functions as f"
   ]
  },
  {
   "cell_type": "code",
   "execution_count": 8,
   "id": "1aa2c0a5",
   "metadata": {},
   "outputs": [],
   "source": [
    "# For pyspark running in cmd:\n",
    "# pyspark --packages org.mongodb.spark:mongo-spark-connector_2.12:3.0.1"
   ]
  },
  {
   "cell_type": "code",
   "execution_count": 8,
   "id": "9194c6ec",
   "metadata": {},
   "outputs": [],
   "source": [
    "spark = SparkSession.builder \\\n",
    "    .appName(\"MongoDBSparkExample\") \\\n",
    "    .config(\"spark.mongodb.input.uri\", uri) \\\n",
    "    .config(\"spark.mongodb.input.database\", database_name) \\\n",
    "    .config(\"spark.mongodb.input.collection\", collection_name) \\\n",
    "    .getOrCreate()"
   ]
  },
  {
   "cell_type": "code",
   "execution_count": 9,
   "id": "135821bc",
   "metadata": {},
   "outputs": [
    {
     "data": {
      "text/html": [
       "\n",
       "            <div>\n",
       "                <p><b>SparkSession - hive</b></p>\n",
       "                \n",
       "        <div>\n",
       "            <p><b>SparkContext</b></p>\n",
       "\n",
       "            <p><a href=\"http://127.0.0.1:4040\">Spark UI</a></p>\n",
       "\n",
       "            <dl>\n",
       "              <dt>Version</dt>\n",
       "                <dd><code>v3.5.0</code></dd>\n",
       "              <dt>Master</dt>\n",
       "                <dd><code>local[*]</code></dd>\n",
       "              <dt>AppName</dt>\n",
       "                <dd><code>PySparkShell</code></dd>\n",
       "            </dl>\n",
       "        </div>\n",
       "        \n",
       "            </div>\n",
       "        "
      ],
      "text/plain": [
       "<pyspark.sql.session.SparkSession at 0x1a51caf5750>"
      ]
     },
     "execution_count": 9,
     "metadata": {},
     "output_type": "execute_result"
    }
   ],
   "source": [
    "spark"
   ]
  },
  {
   "cell_type": "code",
   "execution_count": 184,
   "id": "cbbced67",
   "metadata": {},
   "outputs": [],
   "source": [
    "df = spark.read.format(\"com.mongodb.spark.sql.DefaultSource\") \\\n",
    "    .option(\"spark.mongodb.input.uri\", uri) \\\n",
    "    .option(\"spark.mongodb.input.database\", \"Nasa_EONET\") \\\n",
    "    .option(\"spark.mongodb.input.collection\", \"natural_events\").load()"
   ]
  },
  {
   "cell_type": "code",
   "execution_count": 185,
   "id": "a5578014",
   "metadata": {},
   "outputs": [
    {
     "name": "stdout",
     "output_type": "stream",
     "text": [
      "+--------------------+-----------------+----------+--------------------+--------------------+--------------------+--------------------+--------------------+\n",
      "|          Categories|Event Description|  Event ID|          Event Link|         Event Title|          Geometries|             Sources|                 _id|\n",
      "+--------------------+-----------------+----------+--------------------+--------------------+--------------------+--------------------+--------------------+\n",
      "|   [{12, Volcanoes}]|                 |EONET_6425|https://eonet.gsf...|Kilauea Volcano, ...|[{N/A, N/A, 2023-...|[{SIVolcano, http...|{6505274dde7761e1...|\n",
      "|[{15, Sea and Lak...|                 |EONET_6423|https://eonet.gsf...|        Iceberg D33A|[{N/A, N/A, 2023-...|[{NATICE, https:/...|{6505274dde7761e1...|\n",
      "|[{15, Sea and Lak...|                 |EONET_6424|https://eonet.gsf...|        Iceberg D33B|[{N/A, N/A, 2023-...|[{NATICE, https:/...|{6505274dde7761e1...|\n",
      "|[{10, Severe Stor...|                 |EONET_6421|https://eonet.gsf...|    Hurricane Margot|[{N/A, N/A, 2023-...|[{GDACS, http://w...|{6505274dde7761e1...|\n",
      "|[{10, Severe Stor...|                 |EONET_6420|https://eonet.gsf...|       Hurricane Lee|[{N/A, N/A, 2023-...|[{EO, https://ear...|{6505274dde7761e1...|\n",
      "|[{10, Severe Stor...|                 |EONET_6416|https://eonet.gsf...|      Hurricane Jova|[{N/A, N/A, 2023-...|[{GDACS, http://w...|{6505274ede7761e1...|\n",
      "|    [{8, Wildfires}]|                 |EONET_6418|https://eonet.gsf...|Peacock Fire Info...|[{N/A, N/A, 2023-...|[{InciWeb, http:/...|{6505274ede7761e1...|\n",
      "|   [{12, Volcanoes}]|                 |EONET_6422|https://eonet.gsf...|Villarrica Volcan...|[{N/A, N/A, 2023-...|[{SIVolcano, http...|{6505274ede7761e1...|\n",
      "|    [{8, Wildfires}]|                 |EONET_6402|https://eonet.gsf...|Wanes Gray Fire I...|[{N/A, N/A, 2023-...|[{InciWeb, http:/...|{6505274ede7761e1...|\n",
      "|    [{8, Wildfires}]|                 |EONET_6388|https://eonet.gsf...|Flat Fire Informa...|[{N/A, N/A, 2023-...|[{InciWeb, http:/...|{6505274ede7761e1...|\n",
      "+--------------------+-----------------+----------+--------------------+--------------------+--------------------+--------------------+--------------------+\n",
      "\n"
     ]
    }
   ],
   "source": [
    "df.show()"
   ]
  },
  {
   "cell_type": "code",
   "execution_count": 186,
   "id": "3e3a25ce",
   "metadata": {},
   "outputs": [
    {
     "name": "stdout",
     "output_type": "stream",
     "text": [
      "root\n",
      " |-- Categories: array (nullable = true)\n",
      " |    |-- element: struct (containsNull = true)\n",
      " |    |    |-- Category ID: integer (nullable = true)\n",
      " |    |    |-- Category Title: string (nullable = true)\n",
      " |-- Event Description: string (nullable = true)\n",
      " |-- Event ID: string (nullable = true)\n",
      " |-- Event Link: string (nullable = true)\n",
      " |-- Event Title: string (nullable = true)\n",
      " |-- Geometries: array (nullable = true)\n",
      " |    |-- element: struct (containsNull = true)\n",
      " |    |    |-- Magnitude Value: string (nullable = true)\n",
      " |    |    |-- Magnitude Unit: string (nullable = true)\n",
      " |    |    |-- Geometry Date: string (nullable = true)\n",
      " |    |    |-- Geometry Type: string (nullable = true)\n",
      " |    |    |-- Geometry Coordinates: array (nullable = true)\n",
      " |    |    |    |-- element: double (containsNull = true)\n",
      " |-- Sources: array (nullable = true)\n",
      " |    |-- element: struct (containsNull = true)\n",
      " |    |    |-- Source ID: string (nullable = true)\n",
      " |    |    |-- Source URL: string (nullable = true)\n",
      " |-- _id: struct (nullable = true)\n",
      " |    |-- oid: string (nullable = true)\n",
      "\n"
     ]
    }
   ],
   "source": [
    "df.printSchema()"
   ]
  },
  {
   "cell_type": "markdown",
   "id": "cfa0f553",
   "metadata": {},
   "source": [
    "# Data manipulation using PySpark"
   ]
  },
  {
   "cell_type": "code",
   "execution_count": 191,
   "id": "5cbf4c41",
   "metadata": {},
   "outputs": [],
   "source": [
    "df2 = df.withColumn('Categories', f.explode('Categories'))\\\n",
    "    .withColumn('Category ID', f.col('Categories').getItem('Category ID'))\\\n",
    "    .withColumn('Category Title', f.col('Categories').getItem('Category Title'))"
   ]
  },
  {
   "cell_type": "code",
   "execution_count": 192,
   "id": "019eb599",
   "metadata": {},
   "outputs": [],
   "source": [
    "df2 = df2.withColumn('Geometries', f.explode('Geometries'))\\\n",
    "    .withColumn('Magnitude Value', f.col('Geometries').getItem('Magnitude Value'))\\\n",
    "    .withColumn('Magnitude Unit', f.col('Geometries').getItem('Magnitude Unit'))\\\n",
    "    .withColumn('Geometry Date', f.col('Geometries').getItem('Geometry Date'))\\\n",
    "    .withColumn('Geometry Type', f.col('Geometries').getItem('Geometry Type'))\\\n",
    "    .withColumn('Geometry Coordinates', f.col('Geometries').getItem('Geometry Coordinates'))"
   ]
  },
  {
   "cell_type": "code",
   "execution_count": 193,
   "id": "717fefbd",
   "metadata": {},
   "outputs": [],
   "source": [
    "df2 = df2.withColumn('Sources', f.explode('Sources'))\\\n",
    "    .withColumn('Source ID', f.col('Sources').getItem('Source ID'))\\\n",
    "    .withColumn('Source URL', f.col('Sources').getItem('Source URL'))"
   ]
  },
  {
   "cell_type": "code",
   "execution_count": 195,
   "id": "2dccb479",
   "metadata": {},
   "outputs": [],
   "source": [
    "df2 = df2.drop('Categories', 'Geometries', 'Sources', 'Event Description')"
   ]
  },
  {
   "cell_type": "code",
   "execution_count": 196,
   "id": "3ab9ce6c",
   "metadata": {},
   "outputs": [
    {
     "name": "stdout",
     "output_type": "stream",
     "text": [
      "root\n",
      " |-- Event ID: string (nullable = true)\n",
      " |-- Event Link: string (nullable = true)\n",
      " |-- Event Title: string (nullable = true)\n",
      " |-- _id: struct (nullable = true)\n",
      " |    |-- oid: string (nullable = true)\n",
      " |-- Category ID: integer (nullable = true)\n",
      " |-- Category Title: string (nullable = true)\n",
      " |-- Magnitude Value: string (nullable = true)\n",
      " |-- Magnitude Unit: string (nullable = true)\n",
      " |-- Geometry Date: string (nullable = true)\n",
      " |-- Geometry Type: string (nullable = true)\n",
      " |-- Geometry Coordinates: array (nullable = true)\n",
      " |    |-- element: double (containsNull = true)\n",
      " |-- Source ID: string (nullable = true)\n",
      " |-- Source URL: string (nullable = true)\n",
      "\n"
     ]
    }
   ],
   "source": [
    "df2.printSchema()"
   ]
  },
  {
   "cell_type": "code",
   "execution_count": 197,
   "id": "830e85af",
   "metadata": {},
   "outputs": [
    {
     "name": "stdout",
     "output_type": "stream",
     "text": [
      "+----------+--------------------+--------------------+--------------------+-----------+----------------+---------------+--------------+--------------------+-------------+--------------------+---------+--------------------+\n",
      "|  Event ID|          Event Link|         Event Title|                 _id|Category ID|  Category Title|Magnitude Value|Magnitude Unit|       Geometry Date|Geometry Type|Geometry Coordinates|Source ID|          Source URL|\n",
      "+----------+--------------------+--------------------+--------------------+-----------+----------------+---------------+--------------+--------------------+-------------+--------------------+---------+--------------------+\n",
      "|EONET_6425|https://eonet.gsf...|Kilauea Volcano, ...|{6505274dde7761e1...|         12|       Volcanoes|            N/A|           N/A|2023-09-10T00:00:00Z|        Point|  [-155.287, 19.421]|SIVolcano|https://volcano.s...|\n",
      "|EONET_6423|https://eonet.gsf...|        Iceberg D33A|{6505274dde7761e1...|         15|Sea and Lake Ice|            N/A|           N/A|2023-09-08T00:00:00Z|        Point|     [17.14, -69.38]|   NATICE|https://usicecent...|\n",
      "|EONET_6424|https://eonet.gsf...|        Iceberg D33B|{6505274dde7761e1...|         15|Sea and Lake Ice|            N/A|           N/A|2023-09-08T00:00:00Z|        Point|      [18.3, -69.64]|   NATICE|https://usicecent...|\n",
      "|EONET_6421|https://eonet.gsf...|    Hurricane Margot|{6505274dde7761e1...|         10|   Severe Storms|            N/A|           N/A|2023-09-07T21:00:00Z|        Point|       [-28.3, 16.8]|    GDACS|http://www.gdacs....|\n",
      "|EONET_6421|https://eonet.gsf...|    Hurricane Margot|{6505274dde7761e1...|         10|   Severe Storms|            N/A|           N/A|2023-09-07T21:00:00Z|        Point|       [-28.3, 16.8]| NOAA_NHC|https://www.nhc.n...|\n",
      "|EONET_6421|https://eonet.gsf...|    Hurricane Margot|{6505274dde7761e1...|         10|   Severe Storms|            N/A|           N/A|2023-09-08T03:00:00Z|        Point|       [-29.3, 16.8]|    GDACS|http://www.gdacs....|\n",
      "|EONET_6421|https://eonet.gsf...|    Hurricane Margot|{6505274dde7761e1...|         10|   Severe Storms|            N/A|           N/A|2023-09-08T03:00:00Z|        Point|       [-29.3, 16.8]| NOAA_NHC|https://www.nhc.n...|\n",
      "|EONET_6421|https://eonet.gsf...|    Hurricane Margot|{6505274dde7761e1...|         10|   Severe Storms|            N/A|           N/A|2023-09-08T09:00:00Z|        Point|       [-30.8, 17.4]|    GDACS|http://www.gdacs....|\n",
      "|EONET_6421|https://eonet.gsf...|    Hurricane Margot|{6505274dde7761e1...|         10|   Severe Storms|            N/A|           N/A|2023-09-08T09:00:00Z|        Point|       [-30.8, 17.4]| NOAA_NHC|https://www.nhc.n...|\n",
      "|EONET_6421|https://eonet.gsf...|    Hurricane Margot|{6505274dde7761e1...|         10|   Severe Storms|            N/A|           N/A|2023-09-08T15:00:00Z|        Point|       [-32.5, 18.0]|    GDACS|http://www.gdacs....|\n",
      "|EONET_6421|https://eonet.gsf...|    Hurricane Margot|{6505274dde7761e1...|         10|   Severe Storms|            N/A|           N/A|2023-09-08T15:00:00Z|        Point|       [-32.5, 18.0]| NOAA_NHC|https://www.nhc.n...|\n",
      "|EONET_6421|https://eonet.gsf...|    Hurricane Margot|{6505274dde7761e1...|         10|   Severe Storms|            N/A|           N/A|2023-09-08T21:00:00Z|        Point|       [-34.3, 18.8]|    GDACS|http://www.gdacs....|\n",
      "|EONET_6421|https://eonet.gsf...|    Hurricane Margot|{6505274dde7761e1...|         10|   Severe Storms|            N/A|           N/A|2023-09-08T21:00:00Z|        Point|       [-34.3, 18.8]| NOAA_NHC|https://www.nhc.n...|\n",
      "|EONET_6421|https://eonet.gsf...|    Hurricane Margot|{6505274dde7761e1...|         10|   Severe Storms|            N/A|           N/A|2023-09-09T03:00:00Z|        Point|       [-35.8, 19.5]|    GDACS|http://www.gdacs....|\n",
      "|EONET_6421|https://eonet.gsf...|    Hurricane Margot|{6505274dde7761e1...|         10|   Severe Storms|            N/A|           N/A|2023-09-09T03:00:00Z|        Point|       [-35.8, 19.5]| NOAA_NHC|https://www.nhc.n...|\n",
      "|EONET_6421|https://eonet.gsf...|    Hurricane Margot|{6505274dde7761e1...|         10|   Severe Storms|            N/A|           N/A|2023-09-09T09:00:00Z|        Point|       [-36.9, 19.9]|    GDACS|http://www.gdacs....|\n",
      "|EONET_6421|https://eonet.gsf...|    Hurricane Margot|{6505274dde7761e1...|         10|   Severe Storms|            N/A|           N/A|2023-09-09T09:00:00Z|        Point|       [-36.9, 19.9]| NOAA_NHC|https://www.nhc.n...|\n",
      "|EONET_6421|https://eonet.gsf...|    Hurricane Margot|{6505274dde7761e1...|         10|   Severe Storms|            N/A|           N/A|2023-09-09T15:00:00Z|        Point|       [-38.0, 20.5]|    GDACS|http://www.gdacs....|\n",
      "|EONET_6421|https://eonet.gsf...|    Hurricane Margot|{6505274dde7761e1...|         10|   Severe Storms|            N/A|           N/A|2023-09-09T15:00:00Z|        Point|       [-38.0, 20.5]| NOAA_NHC|https://www.nhc.n...|\n",
      "|EONET_6421|https://eonet.gsf...|    Hurricane Margot|{6505274dde7761e1...|         10|   Severe Storms|            N/A|           N/A|2023-09-09T21:00:00Z|        Point|       [-38.7, 21.0]|    GDACS|http://www.gdacs....|\n",
      "+----------+--------------------+--------------------+--------------------+-----------+----------------+---------------+--------------+--------------------+-------------+--------------------+---------+--------------------+\n",
      "only showing top 20 rows\n",
      "\n"
     ]
    }
   ],
   "source": [
    " df2.show()"
   ]
  },
  {
   "cell_type": "code",
   "execution_count": 216,
   "id": "91be7f0f",
   "metadata": {},
   "outputs": [],
   "source": [
    "# split data into two columns\n",
    "df1 = df2.withColumn('Date', split(df2['Geometry Date'], 'T').getItem(0)) \\\n",
    "       .withColumn('time', split(df2['Geometry Date'], 'T').getItem(1)) "
   ]
  },
  {
   "cell_type": "code",
   "execution_count": 217,
   "id": "052d3b71",
   "metadata": {},
   "outputs": [],
   "source": [
    "df1 = df1.drop('Geometry Date')"
   ]
  },
  {
   "cell_type": "code",
   "execution_count": 218,
   "id": "4bc59f54",
   "metadata": {},
   "outputs": [],
   "source": [
    "# convert PySpark DF to Pandas DF\n",
    "pandasDF = df1.toPandas()"
   ]
  },
  {
   "cell_type": "code",
   "execution_count": 219,
   "id": "48caa016",
   "metadata": {},
   "outputs": [
    {
     "data": {
      "text/html": [
       "<div>\n",
       "<style scoped>\n",
       "    .dataframe tbody tr th:only-of-type {\n",
       "        vertical-align: middle;\n",
       "    }\n",
       "\n",
       "    .dataframe tbody tr th {\n",
       "        vertical-align: top;\n",
       "    }\n",
       "\n",
       "    .dataframe thead th {\n",
       "        text-align: right;\n",
       "    }\n",
       "</style>\n",
       "<table border=\"1\" class=\"dataframe\">\n",
       "  <thead>\n",
       "    <tr style=\"text-align: right;\">\n",
       "      <th></th>\n",
       "      <th>Event ID</th>\n",
       "      <th>Event Link</th>\n",
       "      <th>Event Title</th>\n",
       "      <th>_id</th>\n",
       "      <th>Category ID</th>\n",
       "      <th>Category Title</th>\n",
       "      <th>Magnitude Value</th>\n",
       "      <th>Magnitude Unit</th>\n",
       "      <th>Geometry Type</th>\n",
       "      <th>Geometry Coordinates</th>\n",
       "      <th>Source ID</th>\n",
       "      <th>Source URL</th>\n",
       "      <th>Date</th>\n",
       "      <th>time</th>\n",
       "    </tr>\n",
       "  </thead>\n",
       "  <tbody>\n",
       "    <tr>\n",
       "      <th>0</th>\n",
       "      <td>EONET_6425</td>\n",
       "      <td>https://eonet.gsfc.nasa.gov/api/v2.1/events/EO...</td>\n",
       "      <td>Kilauea Volcano, Hawaii</td>\n",
       "      <td>(6505274dde7761e115abc80a,)</td>\n",
       "      <td>12</td>\n",
       "      <td>Volcanoes</td>\n",
       "      <td>N/A</td>\n",
       "      <td>N/A</td>\n",
       "      <td>Point</td>\n",
       "      <td>[-155.287, 19.421]</td>\n",
       "      <td>SIVolcano</td>\n",
       "      <td>https://volcano.si.edu/volcano.cfm?vn=332010</td>\n",
       "      <td>2023-09-10</td>\n",
       "      <td>00:00:00Z</td>\n",
       "    </tr>\n",
       "    <tr>\n",
       "      <th>1</th>\n",
       "      <td>EONET_6423</td>\n",
       "      <td>https://eonet.gsfc.nasa.gov/api/v2.1/events/EO...</td>\n",
       "      <td>Iceberg D33A</td>\n",
       "      <td>(6505274dde7761e115abc80b,)</td>\n",
       "      <td>15</td>\n",
       "      <td>Sea and Lake Ice</td>\n",
       "      <td>N/A</td>\n",
       "      <td>N/A</td>\n",
       "      <td>Point</td>\n",
       "      <td>[17.14, -69.38]</td>\n",
       "      <td>NATICE</td>\n",
       "      <td>https://usicecenter.gov/pub/Iceberg_Tabular.csv</td>\n",
       "      <td>2023-09-08</td>\n",
       "      <td>00:00:00Z</td>\n",
       "    </tr>\n",
       "    <tr>\n",
       "      <th>2</th>\n",
       "      <td>EONET_6424</td>\n",
       "      <td>https://eonet.gsfc.nasa.gov/api/v2.1/events/EO...</td>\n",
       "      <td>Iceberg D33B</td>\n",
       "      <td>(6505274dde7761e115abc80c,)</td>\n",
       "      <td>15</td>\n",
       "      <td>Sea and Lake Ice</td>\n",
       "      <td>N/A</td>\n",
       "      <td>N/A</td>\n",
       "      <td>Point</td>\n",
       "      <td>[18.3, -69.64]</td>\n",
       "      <td>NATICE</td>\n",
       "      <td>https://usicecenter.gov/pub/Iceberg_Tabular.csv</td>\n",
       "      <td>2023-09-08</td>\n",
       "      <td>00:00:00Z</td>\n",
       "    </tr>\n",
       "    <tr>\n",
       "      <th>3</th>\n",
       "      <td>EONET_6421</td>\n",
       "      <td>https://eonet.gsfc.nasa.gov/api/v2.1/events/EO...</td>\n",
       "      <td>Hurricane Margot</td>\n",
       "      <td>(6505274dde7761e115abc80d,)</td>\n",
       "      <td>10</td>\n",
       "      <td>Severe Storms</td>\n",
       "      <td>N/A</td>\n",
       "      <td>N/A</td>\n",
       "      <td>Point</td>\n",
       "      <td>[-28.3, 16.8]</td>\n",
       "      <td>GDACS</td>\n",
       "      <td>http://www.gdacs.org/report.aspx?eventid=10010...</td>\n",
       "      <td>2023-09-07</td>\n",
       "      <td>21:00:00Z</td>\n",
       "    </tr>\n",
       "    <tr>\n",
       "      <th>4</th>\n",
       "      <td>EONET_6421</td>\n",
       "      <td>https://eonet.gsfc.nasa.gov/api/v2.1/events/EO...</td>\n",
       "      <td>Hurricane Margot</td>\n",
       "      <td>(6505274dde7761e115abc80d,)</td>\n",
       "      <td>10</td>\n",
       "      <td>Severe Storms</td>\n",
       "      <td>N/A</td>\n",
       "      <td>N/A</td>\n",
       "      <td>Point</td>\n",
       "      <td>[-28.3, 16.8]</td>\n",
       "      <td>NOAA_NHC</td>\n",
       "      <td>https://www.nhc.noaa.gov/archive/2023/MARGOT.s...</td>\n",
       "      <td>2023-09-07</td>\n",
       "      <td>21:00:00Z</td>\n",
       "    </tr>\n",
       "  </tbody>\n",
       "</table>\n",
       "</div>"
      ],
      "text/plain": [
       "     Event ID                                         Event Link  \\\n",
       "0  EONET_6425  https://eonet.gsfc.nasa.gov/api/v2.1/events/EO...   \n",
       "1  EONET_6423  https://eonet.gsfc.nasa.gov/api/v2.1/events/EO...   \n",
       "2  EONET_6424  https://eonet.gsfc.nasa.gov/api/v2.1/events/EO...   \n",
       "3  EONET_6421  https://eonet.gsfc.nasa.gov/api/v2.1/events/EO...   \n",
       "4  EONET_6421  https://eonet.gsfc.nasa.gov/api/v2.1/events/EO...   \n",
       "\n",
       "               Event Title                          _id  Category ID  \\\n",
       "0  Kilauea Volcano, Hawaii  (6505274dde7761e115abc80a,)           12   \n",
       "1             Iceberg D33A  (6505274dde7761e115abc80b,)           15   \n",
       "2             Iceberg D33B  (6505274dde7761e115abc80c,)           15   \n",
       "3         Hurricane Margot  (6505274dde7761e115abc80d,)           10   \n",
       "4         Hurricane Margot  (6505274dde7761e115abc80d,)           10   \n",
       "\n",
       "     Category Title Magnitude Value Magnitude Unit Geometry Type  \\\n",
       "0         Volcanoes             N/A            N/A         Point   \n",
       "1  Sea and Lake Ice             N/A            N/A         Point   \n",
       "2  Sea and Lake Ice             N/A            N/A         Point   \n",
       "3     Severe Storms             N/A            N/A         Point   \n",
       "4     Severe Storms             N/A            N/A         Point   \n",
       "\n",
       "  Geometry Coordinates  Source ID  \\\n",
       "0   [-155.287, 19.421]  SIVolcano   \n",
       "1      [17.14, -69.38]     NATICE   \n",
       "2       [18.3, -69.64]     NATICE   \n",
       "3        [-28.3, 16.8]      GDACS   \n",
       "4        [-28.3, 16.8]   NOAA_NHC   \n",
       "\n",
       "                                          Source URL        Date       time  \n",
       "0       https://volcano.si.edu/volcano.cfm?vn=332010  2023-09-10  00:00:00Z  \n",
       "1    https://usicecenter.gov/pub/Iceberg_Tabular.csv  2023-09-08  00:00:00Z  \n",
       "2    https://usicecenter.gov/pub/Iceberg_Tabular.csv  2023-09-08  00:00:00Z  \n",
       "3  http://www.gdacs.org/report.aspx?eventid=10010...  2023-09-07  21:00:00Z  \n",
       "4  https://www.nhc.noaa.gov/archive/2023/MARGOT.s...  2023-09-07  21:00:00Z  "
      ]
     },
     "execution_count": 219,
     "metadata": {},
     "output_type": "execute_result"
    }
   ],
   "source": [
    "pandasDF.head()"
   ]
  },
  {
   "cell_type": "code",
   "execution_count": 220,
   "id": "83aac803",
   "metadata": {},
   "outputs": [],
   "source": [
    "client.close()"
   ]
  },
  {
   "cell_type": "code",
   "execution_count": 221,
   "id": "cd0be5b9",
   "metadata": {},
   "outputs": [],
   "source": [
    "spark.stop()"
   ]
  },
  {
   "cell_type": "code",
   "execution_count": null,
   "id": "e2145d82",
   "metadata": {},
   "outputs": [],
   "source": []
  }
 ],
 "metadata": {
  "hide_input": false,
  "kernelspec": {
   "display_name": "Python 3 (ipykernel)",
   "language": "python",
   "name": "python3"
  },
  "language_info": {
   "codemirror_mode": {
    "name": "ipython",
    "version": 3
   },
   "file_extension": ".py",
   "mimetype": "text/x-python",
   "name": "python",
   "nbconvert_exporter": "python",
   "pygments_lexer": "ipython3",
   "version": "3.10.4"
  }
 },
 "nbformat": 4,
 "nbformat_minor": 5
}
