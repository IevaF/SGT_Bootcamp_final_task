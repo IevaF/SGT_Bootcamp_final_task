{
 "cells": [
  {
   "cell_type": "code",
   "execution_count": 6,
   "id": "13b7fbc3",
   "metadata": {},
   "outputs": [],
   "source": [
    "import requests\n",
    "import pymongo\n",
    "from pymongo.mongo_client import MongoClient\n",
    "from pymongo.server_api import ServerApi\n",
    "import pandas as pd"
   ]
  },
  {
   "cell_type": "markdown",
   "id": "a2dc2b98",
   "metadata": {},
   "source": [
    "# Insert EONET data from NASA API to MongoDB"
   ]
  },
  {
   "cell_type": "code",
   "execution_count": 3,
   "id": "82b8611c",
   "metadata": {},
   "outputs": [
    {
     "name": "stdout",
     "output_type": "stream",
     "text": [
      "Data inserted into MongoDB successfully.\n"
     ]
    }
   ],
   "source": [
    "uri = \"your_uri\"\n",
    "\n",
    "# Create a new client and connect to the server\n",
    "client = MongoClient(uri, server_api=ServerApi('1'))\n",
    "\n",
    "# Define the EONET API endpoint\n",
    "eonet_url = 'https://eonet.gsfc.nasa.gov/api/v3/events'\n",
    "\n",
    "database = client[\"Nasa_EONET\"]\n",
    "collection = database[\"natural_events\"]\n",
    "\n",
    "# Make a request to the EONET API\n",
    "response = requests.get(eonet_url)\n",
    "\n",
    "if response.status_code == 200:\n",
    "    data = response.json()\n",
    "    # Insert the retrieved data into MongoDB\n",
    "    collection.insert_many(data['events'])\n",
    "    print('Data inserted into MongoDB successfully.')\n",
    "else:\n",
    "    print('Failed to retrieve data from EONET API.')"
   ]
  },
  {
   "cell_type": "markdown",
   "id": "85f0a6d9",
   "metadata": {},
   "source": [
    "# Connect to Mongo database"
   ]
  },
  {
   "cell_type": "code",
   "execution_count": 7,
   "id": "cba2d19d",
   "metadata": {},
   "outputs": [
    {
     "name": "stdout",
     "output_type": "stream",
     "text": [
      "Pinged your deployment. You successfully connected to MongoDB!\n"
     ]
    }
   ],
   "source": [
    "uri = \"your_uri\"\n",
    "\n",
    "client = MongoClient(uri, server_api=ServerApi('1'))\n",
    "\n",
    "try:\n",
    "    client.admin.command('ping')\n",
    "    print(\"Pinged your deployment. You successfully connected to MongoDB!\")\n",
    "except Exception as e:\n",
    "    print(e)"
   ]
  },
  {
   "cell_type": "code",
   "execution_count": 9,
   "id": "a581a5e2",
   "metadata": {},
   "outputs": [],
   "source": [
    "database = client[\"Nasa_EONET\"]\n",
    "collection = database[\"natural_events\"]"
   ]
  },
  {
   "cell_type": "code",
   "execution_count": 10,
   "id": "32d447d8",
   "metadata": {},
   "outputs": [
    {
     "data": {
      "text/plain": [
       "Database(MongoClient(host=['ac-otesk9b-shard-00-01.c4dp6ex.mongodb.net:27017', 'ac-otesk9b-shard-00-00.c4dp6ex.mongodb.net:27017', 'ac-otesk9b-shard-00-02.c4dp6ex.mongodb.net:27017'], document_class=dict, tz_aware=False, connect=True, retrywrites=True, w='majority', authsource='admin', replicaset='atlas-11h46f-shard-0', tls=True, server_api=<pymongo.server_api.ServerApi object at 0x000001E27FBDB5E0>), 'Nasa_EONET')"
      ]
     },
     "execution_count": 10,
     "metadata": {},
     "output_type": "execute_result"
    }
   ],
   "source": [
    "database"
   ]
  },
  {
   "cell_type": "markdown",
   "id": "6b45e14b",
   "metadata": {},
   "source": [
    "# Fetch data from MongoDB using PySpark"
   ]
  },
  {
   "cell_type": "code",
   "execution_count": 3,
   "id": "1aa2c0a5",
   "metadata": {},
   "outputs": [],
   "source": [
    "# For pyspark running in cmd:\n",
    "# pyspark --packages org.mongodb.spark:mongo-spark-connector_2.12:3.0.1"
   ]
  },
  {
   "cell_type": "code",
   "execution_count": 1,
   "id": "3b95890e",
   "metadata": {},
   "outputs": [],
   "source": [
    "import findspark\n",
    "findspark.init()"
   ]
  },
  {
   "cell_type": "code",
   "execution_count": 2,
   "id": "a6eaa9c5",
   "metadata": {},
   "outputs": [],
   "source": [
    "from pyspark.sql import SparkSession\n",
    "import pyspark.sql.functions as f\n",
    "from pyspark.sql.functions import split"
   ]
  },
  {
   "cell_type": "code",
   "execution_count": 11,
   "id": "9194c6ec",
   "metadata": {},
   "outputs": [],
   "source": [
    "spark = SparkSession.builder \\\n",
    "    .appName(\"MongoDBSparkExample\") \\\n",
    "    .config(\"spark.mongodb.input.uri\", uri) \\\n",
    "    .config(\"spark.mongodb.input.database\", database) \\\n",
    "    .config(\"spark.mongodb.input.collection\", collection) \\\n",
    "    .getOrCreate()"
   ]
  },
  {
   "cell_type": "code",
   "execution_count": 12,
   "id": "135821bc",
   "metadata": {},
   "outputs": [
    {
     "data": {
      "text/html": [
       "\n",
       "            <div>\n",
       "                <p><b>SparkSession - hive</b></p>\n",
       "                \n",
       "        <div>\n",
       "            <p><b>SparkContext</b></p>\n",
       "\n",
       "            <p><a href=\"http://127.0.0.1:4040\">Spark UI</a></p>\n",
       "\n",
       "            <dl>\n",
       "              <dt>Version</dt>\n",
       "                <dd><code>v3.5.0</code></dd>\n",
       "              <dt>Master</dt>\n",
       "                <dd><code>local[*]</code></dd>\n",
       "              <dt>AppName</dt>\n",
       "                <dd><code>PySparkShell</code></dd>\n",
       "            </dl>\n",
       "        </div>\n",
       "        \n",
       "            </div>\n",
       "        "
      ],
      "text/plain": [
       "<pyspark.sql.session.SparkSession at 0x1e27f6d5030>"
      ]
     },
     "execution_count": 12,
     "metadata": {},
     "output_type": "execute_result"
    }
   ],
   "source": [
    "spark"
   ]
  },
  {
   "cell_type": "code",
   "execution_count": 40,
   "id": "cbbced67",
   "metadata": {},
   "outputs": [],
   "source": [
    "df = spark.read.format(\"com.mongodb.spark.sql.DefaultSource\") \\\n",
    "    .option(\"spark.mongodb.input.uri\", uri) \\\n",
    "    .option(\"spark.mongodb.input.database\", \"Nasa_EONET\") \\\n",
    "    .option(\"spark.mongodb.input.collection\", \"natural_events\").load()"
   ]
  },
  {
   "cell_type": "code",
   "execution_count": null,
   "id": "366e4f26",
   "metadata": {},
   "outputs": [],
   "source": [
    "client.close()"
   ]
  },
  {
   "cell_type": "code",
   "execution_count": 41,
   "id": "3e3a25ce",
   "metadata": {},
   "outputs": [
    {
     "name": "stdout",
     "output_type": "stream",
     "text": [
      "root\n",
      " |-- _id: struct (nullable = true)\n",
      " |    |-- oid: string (nullable = true)\n",
      " |-- categories: array (nullable = true)\n",
      " |    |-- element: struct (containsNull = true)\n",
      " |    |    |-- id: string (nullable = true)\n",
      " |    |    |-- title: string (nullable = true)\n",
      " |-- closed: void (nullable = true)\n",
      " |-- description: string (nullable = true)\n",
      " |-- geometry: array (nullable = true)\n",
      " |    |-- element: struct (containsNull = true)\n",
      " |    |    |-- magnitudeValue: double (nullable = true)\n",
      " |    |    |-- magnitudeUnit: string (nullable = true)\n",
      " |    |    |-- date: string (nullable = true)\n",
      " |    |    |-- type: string (nullable = true)\n",
      " |    |    |-- coordinates: array (nullable = true)\n",
      " |    |    |    |-- element: double (containsNull = true)\n",
      " |-- id: string (nullable = true)\n",
      " |-- link: string (nullable = true)\n",
      " |-- sources: array (nullable = true)\n",
      " |    |-- element: struct (containsNull = true)\n",
      " |    |    |-- id: string (nullable = true)\n",
      " |    |    |-- url: string (nullable = true)\n",
      " |-- title: string (nullable = true)\n",
      "\n"
     ]
    }
   ],
   "source": [
    "df.printSchema()"
   ]
  },
  {
   "cell_type": "markdown",
   "id": "cfa0f553",
   "metadata": {},
   "source": [
    "# Data manipulation using PySpark"
   ]
  },
  {
   "cell_type": "code",
   "execution_count": 42,
   "id": "5cbf4c41",
   "metadata": {},
   "outputs": [],
   "source": [
    "# explode nested columns\n",
    "df = df.withColumn('categories', f.explode('categories'))\\\n",
    "    .withColumn('Category ID', f.col('categories').getItem('id'))\\\n",
    "    .withColumn('Category Title', f.col('categories').getItem('title'))"
   ]
  },
  {
   "cell_type": "code",
   "execution_count": 43,
   "id": "019eb599",
   "metadata": {},
   "outputs": [],
   "source": [
    "df = df.withColumn('geometry', f.explode('geometry'))\\\n",
    "    .withColumn('Magnitude Value', f.col('geometry').getItem('magnitudeValue'))\\\n",
    "    .withColumn('Magnitude Unit', f.col('geometry').getItem('magnitudeUnit'))\\\n",
    "    .withColumn('Geometry Date', f.col('geometry').getItem('date'))\\\n",
    "    .withColumn('Geometry Type', f.col('geometry').getItem('type'))\\\n",
    "    .withColumn('Geometry Coordinates', f.col('geometry').getItem('coordinates'))"
   ]
  },
  {
   "cell_type": "code",
   "execution_count": 44,
   "id": "717fefbd",
   "metadata": {},
   "outputs": [],
   "source": [
    "df = df.withColumn('sources', f.explode('sources'))\\\n",
    "    .withColumn('Source ID', f.col('sources').getItem('id'))\\\n",
    "    .withColumn('Source URL', f.col('sources').getItem('url'))"
   ]
  },
  {
   "cell_type": "code",
   "execution_count": 46,
   "id": "2dccb479",
   "metadata": {},
   "outputs": [],
   "source": [
    "# remove unnecessary tables\n",
    "df = df.drop('categories', 'geometry', 'sources', 'description', 'closed')"
   ]
  },
  {
   "cell_type": "code",
   "execution_count": 47,
   "id": "91be7f0f",
   "metadata": {},
   "outputs": [],
   "source": [
    "# split data into two columns\n",
    "df = df.withColumn('Date', split(df['Geometry Date'], 'T').getItem(0)) \\\n",
    "       .withColumn('Time', split(df['Geometry Date'], 'T').getItem(1)) "
   ]
  },
  {
   "cell_type": "code",
   "execution_count": 48,
   "id": "9221c4b7",
   "metadata": {},
   "outputs": [],
   "source": [
    "df = df.withColumn('Longitude', df['Geometry Coordinates'][0]) \\\n",
    "        .withColumn('Latitude', df['Geometry Coordinates'][1])"
   ]
  },
  {
   "cell_type": "code",
   "execution_count": 50,
   "id": "052d3b71",
   "metadata": {},
   "outputs": [],
   "source": [
    "# remove unnecessary tables\n",
    "df = df.drop('Geometry Date', 'Geometry Coordinates')"
   ]
  },
  {
   "cell_type": "code",
   "execution_count": 52,
   "id": "3ab9ce6c",
   "metadata": {},
   "outputs": [
    {
     "name": "stdout",
     "output_type": "stream",
     "text": [
      "root\n",
      " |-- _id: struct (nullable = true)\n",
      " |    |-- oid: string (nullable = true)\n",
      " |-- id: string (nullable = true)\n",
      " |-- link: string (nullable = true)\n",
      " |-- title: string (nullable = true)\n",
      " |-- Category ID: string (nullable = true)\n",
      " |-- Category Title: string (nullable = true)\n",
      " |-- Magnitude Value: double (nullable = true)\n",
      " |-- Magnitude Unit: string (nullable = true)\n",
      " |-- Geometry Type: string (nullable = true)\n",
      " |-- Source ID: string (nullable = true)\n",
      " |-- Source URL: string (nullable = true)\n",
      " |-- Date: string (nullable = true)\n",
      " |-- Time: string (nullable = true)\n",
      " |-- Longitude: double (nullable = true)\n",
      " |-- Latitude: double (nullable = true)\n",
      "\n"
     ]
    }
   ],
   "source": [
    "df.printSchema()"
   ]
  },
  {
   "cell_type": "code",
   "execution_count": 53,
   "id": "4bc59f54",
   "metadata": {},
   "outputs": [],
   "source": [
    "# convert PySpark DF to Pandas DF\n",
    "eonet_df = df.toPandas()"
   ]
  },
  {
   "cell_type": "code",
   "execution_count": 54,
   "id": "48caa016",
   "metadata": {},
   "outputs": [
    {
     "data": {
      "text/html": [
       "<div>\n",
       "<style scoped>\n",
       "    .dataframe tbody tr th:only-of-type {\n",
       "        vertical-align: middle;\n",
       "    }\n",
       "\n",
       "    .dataframe tbody tr th {\n",
       "        vertical-align: top;\n",
       "    }\n",
       "\n",
       "    .dataframe thead th {\n",
       "        text-align: right;\n",
       "    }\n",
       "</style>\n",
       "<table border=\"1\" class=\"dataframe\">\n",
       "  <thead>\n",
       "    <tr style=\"text-align: right;\">\n",
       "      <th></th>\n",
       "      <th>_id</th>\n",
       "      <th>id</th>\n",
       "      <th>link</th>\n",
       "      <th>title</th>\n",
       "      <th>Category ID</th>\n",
       "      <th>Category Title</th>\n",
       "      <th>Magnitude Value</th>\n",
       "      <th>Magnitude Unit</th>\n",
       "      <th>Geometry Type</th>\n",
       "      <th>Source ID</th>\n",
       "      <th>Source URL</th>\n",
       "      <th>Date</th>\n",
       "      <th>Time</th>\n",
       "      <th>Longitude</th>\n",
       "      <th>Latitude</th>\n",
       "    </tr>\n",
       "  </thead>\n",
       "  <tbody>\n",
       "    <tr>\n",
       "      <th>0</th>\n",
       "      <td>(6506a0255457d4ab94009af1,)</td>\n",
       "      <td>EONET_6425</td>\n",
       "      <td>https://eonet.gsfc.nasa.gov/api/v3/events/EONE...</td>\n",
       "      <td>Kilauea Volcano, Hawaii</td>\n",
       "      <td>volcanoes</td>\n",
       "      <td>Volcanoes</td>\n",
       "      <td>NaN</td>\n",
       "      <td>None</td>\n",
       "      <td>Point</td>\n",
       "      <td>SIVolcano</td>\n",
       "      <td>https://volcano.si.edu/volcano.cfm?vn=332010</td>\n",
       "      <td>2023-09-10</td>\n",
       "      <td>00:00:00Z</td>\n",
       "      <td>-155.287</td>\n",
       "      <td>19.421</td>\n",
       "    </tr>\n",
       "    <tr>\n",
       "      <th>1</th>\n",
       "      <td>(6506a0255457d4ab94009af2,)</td>\n",
       "      <td>EONET_6423</td>\n",
       "      <td>https://eonet.gsfc.nasa.gov/api/v3/events/EONE...</td>\n",
       "      <td>Iceberg D33A</td>\n",
       "      <td>seaLakeIce</td>\n",
       "      <td>Sea and Lake Ice</td>\n",
       "      <td>340.0</td>\n",
       "      <td>NM^2</td>\n",
       "      <td>Point</td>\n",
       "      <td>NATICE</td>\n",
       "      <td>https://usicecenter.gov/pub/Iceberg_Tabular.csv</td>\n",
       "      <td>2023-09-08</td>\n",
       "      <td>00:00:00Z</td>\n",
       "      <td>17.140</td>\n",
       "      <td>-69.380</td>\n",
       "    </tr>\n",
       "    <tr>\n",
       "      <th>2</th>\n",
       "      <td>(6506a0255457d4ab94009af2,)</td>\n",
       "      <td>EONET_6423</td>\n",
       "      <td>https://eonet.gsfc.nasa.gov/api/v3/events/EONE...</td>\n",
       "      <td>Iceberg D33A</td>\n",
       "      <td>seaLakeIce</td>\n",
       "      <td>Sea and Lake Ice</td>\n",
       "      <td>340.0</td>\n",
       "      <td>NM^2</td>\n",
       "      <td>Point</td>\n",
       "      <td>NATICE</td>\n",
       "      <td>https://usicecenter.gov/pub/Iceberg_Tabular.csv</td>\n",
       "      <td>2023-09-15</td>\n",
       "      <td>00:00:00Z</td>\n",
       "      <td>14.370</td>\n",
       "      <td>-69.230</td>\n",
       "    </tr>\n",
       "    <tr>\n",
       "      <th>3</th>\n",
       "      <td>(6506a0255457d4ab94009af3,)</td>\n",
       "      <td>EONET_6424</td>\n",
       "      <td>https://eonet.gsfc.nasa.gov/api/v3/events/EONE...</td>\n",
       "      <td>Iceberg D33B</td>\n",
       "      <td>seaLakeIce</td>\n",
       "      <td>Sea and Lake Ice</td>\n",
       "      <td>252.0</td>\n",
       "      <td>NM^2</td>\n",
       "      <td>Point</td>\n",
       "      <td>NATICE</td>\n",
       "      <td>https://usicecenter.gov/pub/Iceberg_Tabular.csv</td>\n",
       "      <td>2023-09-08</td>\n",
       "      <td>00:00:00Z</td>\n",
       "      <td>18.300</td>\n",
       "      <td>-69.640</td>\n",
       "    </tr>\n",
       "    <tr>\n",
       "      <th>4</th>\n",
       "      <td>(6506a0255457d4ab94009af3,)</td>\n",
       "      <td>EONET_6424</td>\n",
       "      <td>https://eonet.gsfc.nasa.gov/api/v3/events/EONE...</td>\n",
       "      <td>Iceberg D33B</td>\n",
       "      <td>seaLakeIce</td>\n",
       "      <td>Sea and Lake Ice</td>\n",
       "      <td>252.0</td>\n",
       "      <td>NM^2</td>\n",
       "      <td>Point</td>\n",
       "      <td>NATICE</td>\n",
       "      <td>https://usicecenter.gov/pub/Iceberg_Tabular.csv</td>\n",
       "      <td>2023-09-15</td>\n",
       "      <td>00:00:00Z</td>\n",
       "      <td>16.600</td>\n",
       "      <td>-69.450</td>\n",
       "    </tr>\n",
       "  </tbody>\n",
       "</table>\n",
       "</div>"
      ],
      "text/plain": [
       "                           _id          id  \\\n",
       "0  (6506a0255457d4ab94009af1,)  EONET_6425   \n",
       "1  (6506a0255457d4ab94009af2,)  EONET_6423   \n",
       "2  (6506a0255457d4ab94009af2,)  EONET_6423   \n",
       "3  (6506a0255457d4ab94009af3,)  EONET_6424   \n",
       "4  (6506a0255457d4ab94009af3,)  EONET_6424   \n",
       "\n",
       "                                                link                    title  \\\n",
       "0  https://eonet.gsfc.nasa.gov/api/v3/events/EONE...  Kilauea Volcano, Hawaii   \n",
       "1  https://eonet.gsfc.nasa.gov/api/v3/events/EONE...             Iceberg D33A   \n",
       "2  https://eonet.gsfc.nasa.gov/api/v3/events/EONE...             Iceberg D33A   \n",
       "3  https://eonet.gsfc.nasa.gov/api/v3/events/EONE...             Iceberg D33B   \n",
       "4  https://eonet.gsfc.nasa.gov/api/v3/events/EONE...             Iceberg D33B   \n",
       "\n",
       "  Category ID    Category Title  Magnitude Value Magnitude Unit Geometry Type  \\\n",
       "0   volcanoes         Volcanoes              NaN           None         Point   \n",
       "1  seaLakeIce  Sea and Lake Ice            340.0           NM^2         Point   \n",
       "2  seaLakeIce  Sea and Lake Ice            340.0           NM^2         Point   \n",
       "3  seaLakeIce  Sea and Lake Ice            252.0           NM^2         Point   \n",
       "4  seaLakeIce  Sea and Lake Ice            252.0           NM^2         Point   \n",
       "\n",
       "   Source ID                                       Source URL        Date  \\\n",
       "0  SIVolcano     https://volcano.si.edu/volcano.cfm?vn=332010  2023-09-10   \n",
       "1     NATICE  https://usicecenter.gov/pub/Iceberg_Tabular.csv  2023-09-08   \n",
       "2     NATICE  https://usicecenter.gov/pub/Iceberg_Tabular.csv  2023-09-15   \n",
       "3     NATICE  https://usicecenter.gov/pub/Iceberg_Tabular.csv  2023-09-08   \n",
       "4     NATICE  https://usicecenter.gov/pub/Iceberg_Tabular.csv  2023-09-15   \n",
       "\n",
       "        Time  Longitude  Latitude  \n",
       "0  00:00:00Z   -155.287    19.421  \n",
       "1  00:00:00Z     17.140   -69.380  \n",
       "2  00:00:00Z     14.370   -69.230  \n",
       "3  00:00:00Z     18.300   -69.640  \n",
       "4  00:00:00Z     16.600   -69.450  "
      ]
     },
     "execution_count": 54,
     "metadata": {},
     "output_type": "execute_result"
    }
   ],
   "source": [
    "eonet_df.head()"
   ]
  },
  {
   "cell_type": "code",
   "execution_count": 56,
   "id": "cd0be5b9",
   "metadata": {},
   "outputs": [],
   "source": [
    "spark.stop()"
   ]
  },
  {
   "cell_type": "code",
   "execution_count": 57,
   "id": "d5ca4039",
   "metadata": {},
   "outputs": [
    {
     "name": "stdout",
     "output_type": "stream",
     "text": [
      "<class 'pandas.core.frame.DataFrame'>\n",
      "RangeIndex: 1886 entries, 0 to 1885\n",
      "Data columns (total 15 columns):\n",
      " #   Column           Non-Null Count  Dtype  \n",
      "---  ------           --------------  -----  \n",
      " 0   _id              1886 non-null   object \n",
      " 1   id               1886 non-null   object \n",
      " 2   link             1886 non-null   object \n",
      " 3   title            1886 non-null   object \n",
      " 4   Category ID      1886 non-null   object \n",
      " 5   Category Title   1886 non-null   object \n",
      " 6   Magnitude Value  1419 non-null   float64\n",
      " 7   Magnitude Unit   1419 non-null   object \n",
      " 8   Geometry Type    1886 non-null   object \n",
      " 9   Source ID        1886 non-null   object \n",
      " 10  Source URL       1886 non-null   object \n",
      " 11  Date             1886 non-null   object \n",
      " 12  Time             1886 non-null   object \n",
      " 13  Longitude        1886 non-null   float64\n",
      " 14  Latitude         1886 non-null   float64\n",
      "dtypes: float64(3), object(12)\n",
      "memory usage: 221.1+ KB\n"
     ]
    }
   ],
   "source": [
    "eonet_df.info()"
   ]
  },
  {
   "cell_type": "code",
   "execution_count": 58,
   "id": "e2145d82",
   "metadata": {},
   "outputs": [],
   "source": [
    "eonet_df.to_csv('eonet_data.csv', index=False)"
   ]
  },
  {
   "cell_type": "code",
   "execution_count": null,
   "id": "8b4b159d",
   "metadata": {},
   "outputs": [],
   "source": []
  }
 ],
 "metadata": {
  "hide_input": false,
  "kernelspec": {
   "display_name": "Python 3 (ipykernel)",
   "language": "python",
   "name": "python3"
  },
  "language_info": {
   "codemirror_mode": {
    "name": "ipython",
    "version": 3
   },
   "file_extension": ".py",
   "mimetype": "text/x-python",
   "name": "python",
   "nbconvert_exporter": "python",
   "pygments_lexer": "ipython3",
   "version": "3.10.4"
  }
 },
 "nbformat": 4,
 "nbformat_minor": 5
}
