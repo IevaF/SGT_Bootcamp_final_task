{
 "cells": [
  {
   "cell_type": "code",
   "execution_count": 1,
   "id": "a3e8d576",
   "metadata": {},
   "outputs": [],
   "source": [
    "import pandas as pd\n",
    "import requests\n",
    "from datetime import datetime\n",
    "from IPython.display import Image, display\n",
    "from base64 import b64encode, b64decode"
   ]
  },
  {
   "cell_type": "code",
   "execution_count": 2,
   "id": "ec130cf2",
   "metadata": {},
   "outputs": [
    {
     "data": {
      "text/html": [
       "<div>\n",
       "<style scoped>\n",
       "    .dataframe tbody tr th:only-of-type {\n",
       "        vertical-align: middle;\n",
       "    }\n",
       "\n",
       "    .dataframe tbody tr th {\n",
       "        vertical-align: top;\n",
       "    }\n",
       "\n",
       "    .dataframe thead th {\n",
       "        text-align: right;\n",
       "    }\n",
       "</style>\n",
       "<table border=\"1\" class=\"dataframe\">\n",
       "  <thead>\n",
       "    <tr style=\"text-align: right;\">\n",
       "      <th></th>\n",
       "      <th>_id</th>\n",
       "      <th>id</th>\n",
       "      <th>link</th>\n",
       "      <th>title</th>\n",
       "      <th>Category ID</th>\n",
       "      <th>Category Title</th>\n",
       "      <th>Magnitude Value</th>\n",
       "      <th>Magnitude Unit</th>\n",
       "      <th>Geometry Type</th>\n",
       "      <th>Source ID</th>\n",
       "      <th>Source URL</th>\n",
       "      <th>Date</th>\n",
       "      <th>Time</th>\n",
       "      <th>Longitude</th>\n",
       "      <th>Latitude</th>\n",
       "    </tr>\n",
       "  </thead>\n",
       "  <tbody>\n",
       "    <tr>\n",
       "      <th>0</th>\n",
       "      <td>Row(oid='6506a0255457d4ab94009af1')</td>\n",
       "      <td>EONET_6425</td>\n",
       "      <td>https://eonet.gsfc.nasa.gov/api/v3/events/EONE...</td>\n",
       "      <td>Kilauea Volcano, Hawaii</td>\n",
       "      <td>volcanoes</td>\n",
       "      <td>Volcanoes</td>\n",
       "      <td>NaN</td>\n",
       "      <td>NaN</td>\n",
       "      <td>Point</td>\n",
       "      <td>SIVolcano</td>\n",
       "      <td>https://volcano.si.edu/volcano.cfm?vn=332010</td>\n",
       "      <td>2023-09-10</td>\n",
       "      <td>00:00:00Z</td>\n",
       "      <td>-155.287</td>\n",
       "      <td>19.421</td>\n",
       "    </tr>\n",
       "    <tr>\n",
       "      <th>1</th>\n",
       "      <td>Row(oid='6506a0255457d4ab94009af2')</td>\n",
       "      <td>EONET_6423</td>\n",
       "      <td>https://eonet.gsfc.nasa.gov/api/v3/events/EONE...</td>\n",
       "      <td>Iceberg D33A</td>\n",
       "      <td>seaLakeIce</td>\n",
       "      <td>Sea and Lake Ice</td>\n",
       "      <td>340.0</td>\n",
       "      <td>NM^2</td>\n",
       "      <td>Point</td>\n",
       "      <td>NATICE</td>\n",
       "      <td>https://usicecenter.gov/pub/Iceberg_Tabular.csv</td>\n",
       "      <td>2023-09-08</td>\n",
       "      <td>00:00:00Z</td>\n",
       "      <td>17.140</td>\n",
       "      <td>-69.380</td>\n",
       "    </tr>\n",
       "    <tr>\n",
       "      <th>2</th>\n",
       "      <td>Row(oid='6506a0255457d4ab94009af2')</td>\n",
       "      <td>EONET_6423</td>\n",
       "      <td>https://eonet.gsfc.nasa.gov/api/v3/events/EONE...</td>\n",
       "      <td>Iceberg D33A</td>\n",
       "      <td>seaLakeIce</td>\n",
       "      <td>Sea and Lake Ice</td>\n",
       "      <td>340.0</td>\n",
       "      <td>NM^2</td>\n",
       "      <td>Point</td>\n",
       "      <td>NATICE</td>\n",
       "      <td>https://usicecenter.gov/pub/Iceberg_Tabular.csv</td>\n",
       "      <td>2023-09-15</td>\n",
       "      <td>00:00:00Z</td>\n",
       "      <td>14.370</td>\n",
       "      <td>-69.230</td>\n",
       "    </tr>\n",
       "    <tr>\n",
       "      <th>3</th>\n",
       "      <td>Row(oid='6506a0255457d4ab94009af3')</td>\n",
       "      <td>EONET_6424</td>\n",
       "      <td>https://eonet.gsfc.nasa.gov/api/v3/events/EONE...</td>\n",
       "      <td>Iceberg D33B</td>\n",
       "      <td>seaLakeIce</td>\n",
       "      <td>Sea and Lake Ice</td>\n",
       "      <td>252.0</td>\n",
       "      <td>NM^2</td>\n",
       "      <td>Point</td>\n",
       "      <td>NATICE</td>\n",
       "      <td>https://usicecenter.gov/pub/Iceberg_Tabular.csv</td>\n",
       "      <td>2023-09-08</td>\n",
       "      <td>00:00:00Z</td>\n",
       "      <td>18.300</td>\n",
       "      <td>-69.640</td>\n",
       "    </tr>\n",
       "    <tr>\n",
       "      <th>4</th>\n",
       "      <td>Row(oid='6506a0255457d4ab94009af3')</td>\n",
       "      <td>EONET_6424</td>\n",
       "      <td>https://eonet.gsfc.nasa.gov/api/v3/events/EONE...</td>\n",
       "      <td>Iceberg D33B</td>\n",
       "      <td>seaLakeIce</td>\n",
       "      <td>Sea and Lake Ice</td>\n",
       "      <td>252.0</td>\n",
       "      <td>NM^2</td>\n",
       "      <td>Point</td>\n",
       "      <td>NATICE</td>\n",
       "      <td>https://usicecenter.gov/pub/Iceberg_Tabular.csv</td>\n",
       "      <td>2023-09-15</td>\n",
       "      <td>00:00:00Z</td>\n",
       "      <td>16.600</td>\n",
       "      <td>-69.450</td>\n",
       "    </tr>\n",
       "  </tbody>\n",
       "</table>\n",
       "</div>"
      ],
      "text/plain": [
       "                                   _id          id  \\\n",
       "0  Row(oid='6506a0255457d4ab94009af1')  EONET_6425   \n",
       "1  Row(oid='6506a0255457d4ab94009af2')  EONET_6423   \n",
       "2  Row(oid='6506a0255457d4ab94009af2')  EONET_6423   \n",
       "3  Row(oid='6506a0255457d4ab94009af3')  EONET_6424   \n",
       "4  Row(oid='6506a0255457d4ab94009af3')  EONET_6424   \n",
       "\n",
       "                                                link                    title  \\\n",
       "0  https://eonet.gsfc.nasa.gov/api/v3/events/EONE...  Kilauea Volcano, Hawaii   \n",
       "1  https://eonet.gsfc.nasa.gov/api/v3/events/EONE...             Iceberg D33A   \n",
       "2  https://eonet.gsfc.nasa.gov/api/v3/events/EONE...             Iceberg D33A   \n",
       "3  https://eonet.gsfc.nasa.gov/api/v3/events/EONE...             Iceberg D33B   \n",
       "4  https://eonet.gsfc.nasa.gov/api/v3/events/EONE...             Iceberg D33B   \n",
       "\n",
       "  Category ID    Category Title  Magnitude Value Magnitude Unit Geometry Type  \\\n",
       "0   volcanoes         Volcanoes              NaN            NaN         Point   \n",
       "1  seaLakeIce  Sea and Lake Ice            340.0           NM^2         Point   \n",
       "2  seaLakeIce  Sea and Lake Ice            340.0           NM^2         Point   \n",
       "3  seaLakeIce  Sea and Lake Ice            252.0           NM^2         Point   \n",
       "4  seaLakeIce  Sea and Lake Ice            252.0           NM^2         Point   \n",
       "\n",
       "   Source ID                                       Source URL        Date  \\\n",
       "0  SIVolcano     https://volcano.si.edu/volcano.cfm?vn=332010  2023-09-10   \n",
       "1     NATICE  https://usicecenter.gov/pub/Iceberg_Tabular.csv  2023-09-08   \n",
       "2     NATICE  https://usicecenter.gov/pub/Iceberg_Tabular.csv  2023-09-15   \n",
       "3     NATICE  https://usicecenter.gov/pub/Iceberg_Tabular.csv  2023-09-08   \n",
       "4     NATICE  https://usicecenter.gov/pub/Iceberg_Tabular.csv  2023-09-15   \n",
       "\n",
       "        Time  Longitude  Latitude  \n",
       "0  00:00:00Z   -155.287    19.421  \n",
       "1  00:00:00Z     17.140   -69.380  \n",
       "2  00:00:00Z     14.370   -69.230  \n",
       "3  00:00:00Z     18.300   -69.640  \n",
       "4  00:00:00Z     16.600   -69.450  "
      ]
     },
     "execution_count": 2,
     "metadata": {},
     "output_type": "execute_result"
    }
   ],
   "source": [
    "df = pd.read_csv('eonet_data.csv')\n",
    "df.head()"
   ]
  },
  {
   "cell_type": "markdown",
   "id": "04e641ab",
   "metadata": {},
   "source": [
    "# Earth planet image by date"
   ]
  },
  {
   "cell_type": "code",
   "execution_count": 3,
   "id": "09da1653",
   "metadata": {},
   "outputs": [],
   "source": [
    "df['Date'] = pd.to_datetime(df['Date']).dt.strftime('%Y-%m-%d')"
   ]
  },
  {
   "cell_type": "code",
   "execution_count": 4,
   "id": "f061eda4",
   "metadata": {},
   "outputs": [
    {
     "data": {
      "text/html": [
       "<div>\n",
       "<style scoped>\n",
       "    .dataframe tbody tr th:only-of-type {\n",
       "        vertical-align: middle;\n",
       "    }\n",
       "\n",
       "    .dataframe tbody tr th {\n",
       "        vertical-align: top;\n",
       "    }\n",
       "\n",
       "    .dataframe thead th {\n",
       "        text-align: right;\n",
       "    }\n",
       "</style>\n",
       "<table border=\"1\" class=\"dataframe\">\n",
       "  <thead>\n",
       "    <tr style=\"text-align: right;\">\n",
       "      <th></th>\n",
       "      <th>_id</th>\n",
       "      <th>id</th>\n",
       "      <th>link</th>\n",
       "      <th>title</th>\n",
       "      <th>Category ID</th>\n",
       "      <th>Category Title</th>\n",
       "      <th>Magnitude Value</th>\n",
       "      <th>Magnitude Unit</th>\n",
       "      <th>Geometry Type</th>\n",
       "      <th>Source ID</th>\n",
       "      <th>Source URL</th>\n",
       "      <th>Date</th>\n",
       "      <th>Time</th>\n",
       "      <th>Longitude</th>\n",
       "      <th>Latitude</th>\n",
       "    </tr>\n",
       "  </thead>\n",
       "  <tbody>\n",
       "    <tr>\n",
       "      <th>0</th>\n",
       "      <td>Row(oid='6506a0255457d4ab94009af1')</td>\n",
       "      <td>EONET_6425</td>\n",
       "      <td>https://eonet.gsfc.nasa.gov/api/v3/events/EONE...</td>\n",
       "      <td>Kilauea Volcano, Hawaii</td>\n",
       "      <td>volcanoes</td>\n",
       "      <td>Volcanoes</td>\n",
       "      <td>NaN</td>\n",
       "      <td>NaN</td>\n",
       "      <td>Point</td>\n",
       "      <td>SIVolcano</td>\n",
       "      <td>https://volcano.si.edu/volcano.cfm?vn=332010</td>\n",
       "      <td>2023-09-10</td>\n",
       "      <td>00:00:00Z</td>\n",
       "      <td>-155.287</td>\n",
       "      <td>19.421</td>\n",
       "    </tr>\n",
       "    <tr>\n",
       "      <th>1</th>\n",
       "      <td>Row(oid='6506a0255457d4ab94009af2')</td>\n",
       "      <td>EONET_6423</td>\n",
       "      <td>https://eonet.gsfc.nasa.gov/api/v3/events/EONE...</td>\n",
       "      <td>Iceberg D33A</td>\n",
       "      <td>seaLakeIce</td>\n",
       "      <td>Sea and Lake Ice</td>\n",
       "      <td>340.0</td>\n",
       "      <td>NM^2</td>\n",
       "      <td>Point</td>\n",
       "      <td>NATICE</td>\n",
       "      <td>https://usicecenter.gov/pub/Iceberg_Tabular.csv</td>\n",
       "      <td>2023-09-08</td>\n",
       "      <td>00:00:00Z</td>\n",
       "      <td>17.140</td>\n",
       "      <td>-69.380</td>\n",
       "    </tr>\n",
       "    <tr>\n",
       "      <th>2</th>\n",
       "      <td>Row(oid='6506a0255457d4ab94009af2')</td>\n",
       "      <td>EONET_6423</td>\n",
       "      <td>https://eonet.gsfc.nasa.gov/api/v3/events/EONE...</td>\n",
       "      <td>Iceberg D33A</td>\n",
       "      <td>seaLakeIce</td>\n",
       "      <td>Sea and Lake Ice</td>\n",
       "      <td>340.0</td>\n",
       "      <td>NM^2</td>\n",
       "      <td>Point</td>\n",
       "      <td>NATICE</td>\n",
       "      <td>https://usicecenter.gov/pub/Iceberg_Tabular.csv</td>\n",
       "      <td>2023-09-15</td>\n",
       "      <td>00:00:00Z</td>\n",
       "      <td>14.370</td>\n",
       "      <td>-69.230</td>\n",
       "    </tr>\n",
       "    <tr>\n",
       "      <th>3</th>\n",
       "      <td>Row(oid='6506a0255457d4ab94009af3')</td>\n",
       "      <td>EONET_6424</td>\n",
       "      <td>https://eonet.gsfc.nasa.gov/api/v3/events/EONE...</td>\n",
       "      <td>Iceberg D33B</td>\n",
       "      <td>seaLakeIce</td>\n",
       "      <td>Sea and Lake Ice</td>\n",
       "      <td>252.0</td>\n",
       "      <td>NM^2</td>\n",
       "      <td>Point</td>\n",
       "      <td>NATICE</td>\n",
       "      <td>https://usicecenter.gov/pub/Iceberg_Tabular.csv</td>\n",
       "      <td>2023-09-08</td>\n",
       "      <td>00:00:00Z</td>\n",
       "      <td>18.300</td>\n",
       "      <td>-69.640</td>\n",
       "    </tr>\n",
       "    <tr>\n",
       "      <th>4</th>\n",
       "      <td>Row(oid='6506a0255457d4ab94009af3')</td>\n",
       "      <td>EONET_6424</td>\n",
       "      <td>https://eonet.gsfc.nasa.gov/api/v3/events/EONE...</td>\n",
       "      <td>Iceberg D33B</td>\n",
       "      <td>seaLakeIce</td>\n",
       "      <td>Sea and Lake Ice</td>\n",
       "      <td>252.0</td>\n",
       "      <td>NM^2</td>\n",
       "      <td>Point</td>\n",
       "      <td>NATICE</td>\n",
       "      <td>https://usicecenter.gov/pub/Iceberg_Tabular.csv</td>\n",
       "      <td>2023-09-15</td>\n",
       "      <td>00:00:00Z</td>\n",
       "      <td>16.600</td>\n",
       "      <td>-69.450</td>\n",
       "    </tr>\n",
       "  </tbody>\n",
       "</table>\n",
       "</div>"
      ],
      "text/plain": [
       "                                   _id          id  \\\n",
       "0  Row(oid='6506a0255457d4ab94009af1')  EONET_6425   \n",
       "1  Row(oid='6506a0255457d4ab94009af2')  EONET_6423   \n",
       "2  Row(oid='6506a0255457d4ab94009af2')  EONET_6423   \n",
       "3  Row(oid='6506a0255457d4ab94009af3')  EONET_6424   \n",
       "4  Row(oid='6506a0255457d4ab94009af3')  EONET_6424   \n",
       "\n",
       "                                                link                    title  \\\n",
       "0  https://eonet.gsfc.nasa.gov/api/v3/events/EONE...  Kilauea Volcano, Hawaii   \n",
       "1  https://eonet.gsfc.nasa.gov/api/v3/events/EONE...             Iceberg D33A   \n",
       "2  https://eonet.gsfc.nasa.gov/api/v3/events/EONE...             Iceberg D33A   \n",
       "3  https://eonet.gsfc.nasa.gov/api/v3/events/EONE...             Iceberg D33B   \n",
       "4  https://eonet.gsfc.nasa.gov/api/v3/events/EONE...             Iceberg D33B   \n",
       "\n",
       "  Category ID    Category Title  Magnitude Value Magnitude Unit Geometry Type  \\\n",
       "0   volcanoes         Volcanoes              NaN            NaN         Point   \n",
       "1  seaLakeIce  Sea and Lake Ice            340.0           NM^2         Point   \n",
       "2  seaLakeIce  Sea and Lake Ice            340.0           NM^2         Point   \n",
       "3  seaLakeIce  Sea and Lake Ice            252.0           NM^2         Point   \n",
       "4  seaLakeIce  Sea and Lake Ice            252.0           NM^2         Point   \n",
       "\n",
       "   Source ID                                       Source URL        Date  \\\n",
       "0  SIVolcano     https://volcano.si.edu/volcano.cfm?vn=332010  2023-09-10   \n",
       "1     NATICE  https://usicecenter.gov/pub/Iceberg_Tabular.csv  2023-09-08   \n",
       "2     NATICE  https://usicecenter.gov/pub/Iceberg_Tabular.csv  2023-09-15   \n",
       "3     NATICE  https://usicecenter.gov/pub/Iceberg_Tabular.csv  2023-09-08   \n",
       "4     NATICE  https://usicecenter.gov/pub/Iceberg_Tabular.csv  2023-09-15   \n",
       "\n",
       "        Time  Longitude  Latitude  \n",
       "0  00:00:00Z   -155.287    19.421  \n",
       "1  00:00:00Z     17.140   -69.380  \n",
       "2  00:00:00Z     14.370   -69.230  \n",
       "3  00:00:00Z     18.300   -69.640  \n",
       "4  00:00:00Z     16.600   -69.450  "
      ]
     },
     "execution_count": 4,
     "metadata": {},
     "output_type": "execute_result"
    }
   ],
   "source": [
    "df.head()"
   ]
  },
  {
   "cell_type": "code",
   "execution_count": 9,
   "id": "ea6ab4bf",
   "metadata": {},
   "outputs": [
    {
     "data": {
      "text/html": [
       "<img src=\"https://epic.gsfc.nasa.gov/archive/natural/2023/09/16/png/epic_1b_20230916023357.png\"/>"
      ],
      "text/plain": [
       "<IPython.core.display.Image object>"
      ]
     },
     "metadata": {},
     "output_type": "display_data"
    }
   ],
   "source": [
    "base_url = 'https://api.nasa.gov/EPIC/api/natural'\n",
    "api_key = \"fFiJYzeHnnjHtYfhpXFyKS8qzjCNv7Cg6ecL5I5h\"  \n",
    "\n",
    "# Iterate through the DataFrame rows\n",
    "for index, row in df.iterrows():\n",
    "    date = row['Date']\n",
    "    request_url = f'{base_url}/{date}?api_key={api_key}'\n",
    "\n",
    "    # Make the API request\n",
    "    response = requests.get(request_url)\n",
    "    \n",
    "    if response.status_code == 200:\n",
    "        # Parse the JSON response to get the image URL\n",
    "        data = response.json()\n",
    "        img_date = data[0]['date']\n",
    "        formatted_date = datetime.strptime(img_date, '%Y-%m-%d %H:%M:%S').strftime('%Y/%m/%d')\n",
    "        epic_url = 'https://epic.gsfc.nasa.gov/archive/natural/'\n",
    "        img_name = data[0]['image']\n",
    "        image_url = f'{epic_url}{formatted_date}/png/{img_name}.png'\n",
    "        \n",
    "        # display the image\n",
    "        display(Image(url=image_url))\n",
    "        \n",
    "    break"
   ]
  },
  {
   "cell_type": "markdown",
   "id": "56134ec9",
   "metadata": {},
   "source": [
    "# Get the images by categories titles"
   ]
  },
  {
   "cell_type": "code",
   "execution_count": 10,
   "id": "2db3b516",
   "metadata": {},
   "outputs": [],
   "source": [
    "def generate_urls_from_column(df, column_name):\n",
    "    unique_values = df[column_name].unique()\n",
    "    base_url = \"https://images-api.nasa.gov/search?q=\"  \n",
    "    urls_dict = {category: base_url + category.replace(\" \", \"-\") + \"&media_type=image\" for category in unique_values}\n",
    "    return urls_dict\n",
    "\n",
    "column_name = 'Category Title'\n",
    "urls_dict = generate_urls_from_column(df, column_name)"
   ]
  },
  {
   "cell_type": "code",
   "execution_count": 11,
   "id": "8fc8b6f4",
   "metadata": {},
   "outputs": [
    {
     "data": {
      "text/plain": [
       "{'Volcanoes': 'https://images-api.nasa.gov/search?q=Volcanoes&media_type=image',\n",
       " 'Sea and Lake Ice': 'https://images-api.nasa.gov/search?q=Sea-and-Lake-Ice&media_type=image',\n",
       " 'Severe Storms': 'https://images-api.nasa.gov/search?q=Severe-Storms&media_type=image',\n",
       " 'Wildfires': 'https://images-api.nasa.gov/search?q=Wildfires&media_type=image'}"
      ]
     },
     "execution_count": 11,
     "metadata": {},
     "output_type": "execute_result"
    }
   ],
   "source": [
    "urls_dict"
   ]
  },
  {
   "cell_type": "code",
   "execution_count": 12,
   "id": "238f8c85",
   "metadata": {},
   "outputs": [],
   "source": [
    "# Define a function to create a DataFrame with specific category, img_url, and img_content\n",
    "def create_df_from_specific_category(urls_dict):\n",
    "    # Initialize lists to store data\n",
    "    image_urls = []\n",
    "    image_contents = []\n",
    "    categories = []\n",
    "\n",
    "    try:\n",
    "        \n",
    "        for key, value in urls_dict.items():\n",
    "            category = key\n",
    "            response = requests.get(value)\n",
    "            response.raise_for_status()  # Check for HTTP request errors\n",
    "            data = response.json()\n",
    "            all_urls = [item['links'][0]['href'] for item in data['collection']['items']]\n",
    "            for i, url in enumerate(all_urls, start=1):\n",
    "                img_response = requests.get(url)\n",
    "                image_content = img_response.content\n",
    "                \n",
    "                # Append data to lists\n",
    "                image_contents.append(image_content)\n",
    "                image_urls.append(url)\n",
    "                categories.append(key)\n",
    "             \n",
    "            \n",
    "            \n",
    "    except Exception as e:\n",
    "        print(f\"Error while fetching or processing data: {str(e)}\")\n",
    "\n",
    "    df_result = pd.DataFrame({'Category': categories, 'Image_URL': image_urls, 'Image_Content': image_contents})\n",
    "    return df_result\n",
    "\n",
    "\n",
    "img_df = create_df_from_specific_category(urls_dict)"
   ]
  },
  {
   "cell_type": "code",
   "execution_count": 18,
   "id": "306e6f62",
   "metadata": {},
   "outputs": [
    {
     "name": "stdout",
     "output_type": "stream",
     "text": [
      "Volcanoes 1169\n",
      "Sea and Lake Ice 33\n",
      "Severe Storms 392\n",
      "Wildfires 300\n"
     ]
    }
   ],
   "source": [
    "# count the images amount in category\n",
    "for category, url in urls_dict.items():\n",
    "# for url in urls:\n",
    "    try:\n",
    "            response = requests.get(url)\n",
    "            response.raise_for_status()  # Check for HTTP request errors\n",
    "\n",
    "            data = response.json()\n",
    "            image_count = data['collection']['metadata']['total_hits']\n",
    "            print(category, image_count)\n",
    "    except Exception as e:\n",
    "            print(f\"Error while counting images for {url}: {str(e)}\")         "
   ]
  },
  {
   "cell_type": "markdown",
   "id": "0b924071",
   "metadata": {},
   "source": [
    "# Insert Images to Cassandra DB"
   ]
  },
  {
   "cell_type": "code",
   "execution_count": null,
   "id": "8d7b9505",
   "metadata": {},
   "outputs": [],
   "source": [
    "# open ubuntu -> sudo service cassandra start"
   ]
  },
  {
   "cell_type": "code",
   "execution_count": 19,
   "id": "eabbdf3c",
   "metadata": {},
   "outputs": [],
   "source": [
    "from cassandra.cluster import Cluster\n",
    "import uuid"
   ]
  },
  {
   "cell_type": "code",
   "execution_count": 20,
   "id": "5b2b2b2d",
   "metadata": {},
   "outputs": [
    {
     "data": {
      "text/plain": [
       "UUID('f6b3da32-0215-4184-8645-7137d0f05531')"
      ]
     },
     "execution_count": 20,
     "metadata": {},
     "output_type": "execute_result"
    }
   ],
   "source": [
    "uuid.uuid4()"
   ]
  },
  {
   "cell_type": "code",
   "execution_count": 21,
   "id": "5092da70",
   "metadata": {},
   "outputs": [],
   "source": [
    "cluster = Cluster([\"127.0.0.1\"],port=9042)"
   ]
  },
  {
   "cell_type": "code",
   "execution_count": 22,
   "id": "c7b55307",
   "metadata": {},
   "outputs": [],
   "source": [
    "session = cluster.connect()"
   ]
  },
  {
   "cell_type": "code",
   "execution_count": 88,
   "id": "a538f9fc",
   "metadata": {
    "collapsed": true
   },
   "outputs": [
    {
     "ename": "AlreadyExists",
     "evalue": "Keyspace 'nasa_meteorites' already exists",
     "output_type": "error",
     "traceback": [
      "\u001b[1;31m---------------------------------------------------------------------------\u001b[0m",
      "\u001b[1;31mAlreadyExists\u001b[0m                             Traceback (most recent call last)",
      "Input \u001b[1;32mIn [88]\u001b[0m, in \u001b[0;36m<cell line: 6>\u001b[1;34m()\u001b[0m\n\u001b[0;32m      1\u001b[0m create_keyspace \u001b[38;5;241m=\u001b[39m \u001b[38;5;124m\"\"\"\u001b[39m\n\u001b[0;32m      2\u001b[0m \u001b[38;5;124m    CREATE KEYSPACE nasa_meteorites\u001b[39m\n\u001b[0;32m      3\u001b[0m \u001b[38;5;124m    WITH replication = \u001b[39m\u001b[38;5;124m{\u001b[39m\u001b[38;5;124m'\u001b[39m\u001b[38;5;124mclass\u001b[39m\u001b[38;5;124m'\u001b[39m\u001b[38;5;124m: \u001b[39m\u001b[38;5;124m'\u001b[39m\u001b[38;5;124mSimpleStrategy\u001b[39m\u001b[38;5;124m'\u001b[39m\u001b[38;5;124m, \u001b[39m\u001b[38;5;124m'\u001b[39m\u001b[38;5;124mreplication_factor\u001b[39m\u001b[38;5;124m'\u001b[39m\u001b[38;5;124m: 1};\u001b[39m\n\u001b[0;32m      4\u001b[0m \u001b[38;5;124m\"\"\"\u001b[39m\n\u001b[1;32m----> 6\u001b[0m \u001b[43msession\u001b[49m\u001b[38;5;241;43m.\u001b[39;49m\u001b[43mexecute\u001b[49m\u001b[43m(\u001b[49m\u001b[43mcreate_keyspace\u001b[49m\u001b[43m)\u001b[49m\n",
      "File \u001b[1;32m~\\AppData\\Local\\Programs\\Python\\Python310\\lib\\site-packages\\cassandra\\cluster.py:2637\u001b[0m, in \u001b[0;36mcassandra.cluster.Session.execute\u001b[1;34m()\u001b[0m\n",
      "File \u001b[1;32m~\\AppData\\Local\\Programs\\Python\\Python310\\lib\\site-packages\\cassandra\\cluster.py:4920\u001b[0m, in \u001b[0;36mcassandra.cluster.ResponseFuture.result\u001b[1;34m()\u001b[0m\n",
      "\u001b[1;31mAlreadyExists\u001b[0m: Keyspace 'nasa_meteorites' already exists"
     ]
    }
   ],
   "source": [
    "# create_keyspace = \"\"\"\n",
    "#     CREATE KEYSPACE nasa_meteorites\n",
    "#     WITH replication = {'class': 'SimpleStrategy', 'replication_factor': 1};\n",
    "# \"\"\"\n",
    "\n",
    "# session.execute(create_keyspace)"
   ]
  },
  {
   "cell_type": "code",
   "execution_count": 23,
   "id": "5a559dfa",
   "metadata": {},
   "outputs": [
    {
     "data": {
      "text/plain": [
       "<cassandra.cluster.ResultSet at 0x1eb7f9f6d40>"
      ]
     },
     "execution_count": 23,
     "metadata": {},
     "output_type": "execute_result"
    }
   ],
   "source": [
    "session.execute(\"USE nasa_meteorites\")"
   ]
  },
  {
   "cell_type": "code",
   "execution_count": 113,
   "id": "a225ad53",
   "metadata": {},
   "outputs": [
    {
     "data": {
      "text/plain": [
       "<cassandra.cluster.ResultSet at 0x29390e58190>"
      ]
     },
     "execution_count": 113,
     "metadata": {},
     "output_type": "execute_result"
    }
   ],
   "source": [
    "# session.execute(\"\"\" DROP TABLE meteorites\"\"\")"
   ]
  },
  {
   "cell_type": "code",
   "execution_count": 90,
   "id": "eadeb8a3",
   "metadata": {},
   "outputs": [
    {
     "data": {
      "text/plain": [
       "<cassandra.cluster.ResultSet at 0x2938b86d1b0>"
      ]
     },
     "execution_count": 90,
     "metadata": {},
     "output_type": "execute_result"
    }
   ],
   "source": [
    "# session.execute(\"\"\" \n",
    "# CREATE TABLE nasa_images (\n",
    "#     id UUID PRIMARY KEY,\n",
    "#     Category text,\n",
    "#     Image_URL text,\n",
    "#     Image_Content blob)\n",
    "#     \"\"\")"
   ]
  },
  {
   "cell_type": "code",
   "execution_count": 95,
   "id": "812a05da",
   "metadata": {},
   "outputs": [],
   "source": [
    "# Define a prepared INSERT statement\n",
    "insert_statement = session.prepare(\"\"\"\n",
    "    INSERT INTO nasa_images (id, Category, Image_URL, Image_Content)\n",
    "    VALUES (?, ?, ?, ?)\n",
    "\"\"\")\n",
    "\n",
    "# Iterate over DataFrame rows and insert data into Cassandra\n",
    "for _, row in img_df.iterrows():\n",
    "    id = uuid.uuid4()  # Generate a UUID for the id field\n",
    "    session.execute(insert_statement, (id, row['Category'], row['Image_URL'], row['Image_Content']))"
   ]
  },
  {
   "cell_type": "code",
   "execution_count": 24,
   "id": "a6aa29cb",
   "metadata": {
    "scrolled": true
   },
   "outputs": [
    {
     "name": "stdout",
     "output_type": "stream",
     "text": [
      "bf2550b2-d26b-4609-9c73-b82e7d5d964d Wildfires https://images-assets.nasa.gov/image/PIA22554/PIA22554~thumb.jpg\n",
      "e7f8693f-c2a7-4958-ac08-ab7c4bd96b72 Wildfires https://images-assets.nasa.gov/image/ED06-0208-3/ED06-0208-3~thumb.jpg\n",
      "def19cc8-d86f-457f-b0d1-7bebc6030f14 Severe Storms https://images-assets.nasa.gov/image/KSC01pp0795/KSC01pp0795~thumb.jpg\n",
      "2c86e5d1-3747-4a9f-ba53-178984f337cc Wildfires https://images-assets.nasa.gov/image/PIA20886/PIA20886~thumb.jpg\n",
      "b50de13f-f0c0-49a6-9b6d-b20d0c699980 Volcanoes https://images-assets.nasa.gov/image/PIA01267/PIA01267~thumb.jpg\n",
      "fcd03b29-606f-4fb1-b9e8-f7bc2e9ea0aa Volcanoes https://images-assets.nasa.gov/image/PIA02803/PIA02803~thumb.jpg\n",
      "4892c0a9-bf1d-4c17-ac23-5d2c743b46b2 Severe Storms https://images-assets.nasa.gov/image/KSC-20161119-PH_KLS02_0078/KSC-20161119-PH_KLS02_0078~thumb.jpg\n",
      "b774f79f-c26e-429d-971c-24c07523ddd6 Sea and Lake Ice https://images-assets.nasa.gov/image/iss012e15918/iss012e15918~thumb.jpg\n",
      "92d7d4ee-6562-4b9f-a9e3-de6ec5a481f7 Volcanoes https://images-assets.nasa.gov/image/PIA12988/PIA12988~thumb.jpg\n",
      "faf7605b-e7c6-482f-b6ad-699c18377eaa Wildfires https://images-assets.nasa.gov/image/PIA23788/PIA23788~thumb.jpg\n"
     ]
    }
   ],
   "source": [
    "result = session.execute(\"\"\"SELECT id, Category, Image_URL FROM nasa_images LIMIT 10\"\"\")\n",
    "for row in result:\n",
    "    print(row.id, row.category, row.image_url)"
   ]
  },
  {
   "cell_type": "markdown",
   "id": "afc28a2c",
   "metadata": {},
   "source": [
    "# Display the image from Cassandra DB"
   ]
  },
  {
   "cell_type": "code",
   "execution_count": 26,
   "id": "0ba8f25d",
   "metadata": {},
   "outputs": [],
   "source": [
    "from PIL import Image\n",
    "import io\n",
    "from IPython.display import display, HTML, clear_output"
   ]
  },
  {
   "cell_type": "code",
   "execution_count": 25,
   "id": "7774f884",
   "metadata": {},
   "outputs": [],
   "source": [
    "img_id = 'bf2550b2-d26b-4609-9c73-b82e7d5d964d'\n",
    "\n",
    "query = f\"\"\"SELECT Image_Content FROM nasa_images WHERE id = {img_id} ALLOW FILTERING\"\"\""
   ]
  },
  {
   "cell_type": "code",
   "execution_count": 27,
   "id": "59a8a114",
   "metadata": {},
   "outputs": [],
   "source": [
    "result = session.execute(query)\n",
    "image_data = result.one()"
   ]
  },
  {
   "cell_type": "code",
   "execution_count": 28,
   "id": "e775c5d1",
   "metadata": {},
   "outputs": [],
   "source": [
    "image_bytes = image_data.image_content"
   ]
  },
  {
   "cell_type": "code",
   "execution_count": 29,
   "id": "122bf339",
   "metadata": {},
   "outputs": [],
   "source": [
    "# hex -> base64\n",
    "s = image_bytes.hex()\n",
    "b64 = b64encode(bytes.fromhex(s)).decode()\n",
    "image_b64 =  b64"
   ]
  },
  {
   "cell_type": "code",
   "execution_count": 30,
   "id": "1aeddc0b",
   "metadata": {},
   "outputs": [],
   "source": [
    "content_type = 'image/jpg'"
   ]
  },
  {
   "cell_type": "code",
   "execution_count": 31,
   "id": "e43acf78",
   "metadata": {},
   "outputs": [
    {
     "data": {
      "text/html": [
       "<img src=\"data:image/jpg;base64, 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\" alt=\"Image\">"
      ],
      "text/plain": [
       "<IPython.core.display.HTML object>"
      ]
     },
     "metadata": {},
     "output_type": "display_data"
    }
   ],
   "source": [
    "image_html = f'<img src=\"data:{content_type};base64, {image_b64}\" alt=\"Image\">'\n",
    "clear_output()\n",
    "display(HTML(image_html))"
   ]
  },
  {
   "cell_type": "code",
   "execution_count": 40,
   "id": "2daaeb0b",
   "metadata": {},
   "outputs": [],
   "source": [
    "# Close the Cassandra session and cluster when done\n",
    "session.shutdown()\n",
    "cluster.shutdown()"
   ]
  },
  {
   "cell_type": "code",
   "execution_count": null,
   "id": "e624a808",
   "metadata": {},
   "outputs": [],
   "source": []
  }
 ],
 "metadata": {
  "hide_input": false,
  "kernelspec": {
   "display_name": "Python 3 (ipykernel)",
   "language": "python",
   "name": "python3"
  },
  "language_info": {
   "codemirror_mode": {
    "name": "ipython",
    "version": 3
   },
   "file_extension": ".py",
   "mimetype": "text/x-python",
   "name": "python",
   "nbconvert_exporter": "python",
   "pygments_lexer": "ipython3",
   "version": "3.10.4"
  }
 },
 "nbformat": 4,
 "nbformat_minor": 5
}
